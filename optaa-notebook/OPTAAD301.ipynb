{
 "cells": [
  {
   "cell_type": "code",
   "execution_count": 1,
   "metadata": {
    "collapsed": true,
    "deletable": true,
    "editable": true
   },
   "outputs": [],
   "source": [
    "%matplotlib inline\n",
    "import pickle\n",
    "import xarray as xr\n",
    "import pandas as pd\n",
    "import numpy as np\n",
    "import seaborn\n",
    "import json\n",
    "\n",
    "from ion_functions.data.opt_functions_tscor import tscor"
   ]
  },
  {
   "cell_type": "markdown",
   "metadata": {
    "deletable": true,
    "editable": true
   },
   "source": [
    "Functions for parsing the calibration files and the output from the vendor software (WetView)"
   ]
  },
  {
   "cell_type": "code",
   "execution_count": 2,
   "metadata": {
    "collapsed": true,
    "deletable": true,
    "editable": true
   },
   "outputs": [],
   "source": [
    "def parse_calibration(filename):\n",
    "    tbins = []\n",
    "    tcal = None\n",
    "    nbins = None\n",
    "    cwlngth = []\n",
    "    awlngth = []\n",
    "    ccwo = []\n",
    "    acwo = []\n",
    "    tcarray = []\n",
    "    taarray = []\n",
    "\n",
    "    with open(filename) as fh:\n",
    "        for line in fh:\n",
    "            parts = line.split(';')\n",
    "            if len(parts) != 2:\n",
    "                parts = line.split()\n",
    "                if parts[0] == '\"tcal:':\n",
    "                    tcal = float(parts[1])\n",
    "                continue\n",
    "            data, comment = parts\n",
    "\n",
    "            if comment.startswith(' temperature bins'):\n",
    "                tbins = data.split()\n",
    "                tbins = [float(x) for x in tbins]\n",
    "\n",
    "            elif comment.startswith(' number of temperature bins'):\n",
    "                nbins = int(data)\n",
    "\n",
    "            elif comment.startswith(' C and A offset'):\n",
    "                if nbins is None:\n",
    "                    print 'Error - failed to read number of temperature bins'\n",
    "                    return\n",
    "                parts = data.split()\n",
    "                cwlngth.append(float(parts[0][1:]))\n",
    "                awlngth.append(float(parts[1][1:]))\n",
    "                ccwo.append(float(parts[3]))\n",
    "                acwo.append(float(parts[4]))\n",
    "                tcrow = [float(x) for x in parts[5:nbins+5]]\n",
    "                tarow = [float(x) for x in parts[nbins+5:2*nbins+5]]\n",
    "                tcarray.append(tcrow)\n",
    "                taarray.append(tarow)\n",
    "        \n",
    "        return {\n",
    "            'tbins': np.array(tbins),\n",
    "            'tcal': np.array(tcal),\n",
    "            'cwlngth': np.array(cwlngth),\n",
    "            'awlngth': np.array(awlngth),\n",
    "            'ccwo': np.array(ccwo),\n",
    "            'acwo': np.array(acwo),\n",
    "            'tcarray': np.array(tcarray),\n",
    "            'taarray': np.array(taarray),\n",
    "        }\n",
    "    \n",
    "def parse_wetview_dat(filename):\n",
    "    start = False\n",
    "    freqs = []\n",
    "    values = []\n",
    "    with open(filename) as fh:\n",
    "        for line in fh:\n",
    "            if not start and \"acquisition\" in line:\n",
    "                start = True\n",
    "                continue\n",
    "            if start:\n",
    "                if not freqs:\n",
    "                    freqs = line.split()\n",
    "                else:\n",
    "                    values.append([float(x) for x in line.split()[1:len(freqs)+1]])\n",
    "                    \n",
    "    return np.array(values)"
   ]
  },
  {
   "cell_type": "markdown",
   "metadata": {
    "deletable": true,
    "editable": true
   },
   "source": [
    "Functions for calculating optical absorbtion and beam attenuation.\n",
    "\n",
    "These were tested and verified to produce the same output as the matching functions in ion-functions but without the corresponding adjustment for temperature and salinity, as this adjustment is not made by the vendor software."
   ]
  },
  {
   "cell_type": "code",
   "execution_count": 3,
   "metadata": {
    "collapsed": false,
    "deletable": true,
    "editable": true
   },
   "outputs": [],
   "source": [
    "def temp_offset(temps, tbins, tarray):\n",
    "    insertion_point = np.searchsorted(tbins, temps) - 1\n",
    "    T0 = tbins[insertion_point]\n",
    "    T1 = tbins[insertion_point+1]\n",
    "    dT0 = tarray[:, insertion_point]\n",
    "    dT1 = tarray[:, insertion_point+1]\n",
    "    return (dT0 + ((temps - T0) / (T1 - T0)) * (dT1 - dT0)).T\n",
    "\n",
    "def opt_internal_temp(traw):\n",
    "    # convert counts to volts\n",
    "    volts = 5. * traw / 65535.\n",
    "\n",
    "    # calculate the resistance of the thermistor\n",
    "    res = 10000. * volts / (4.516 - volts)\n",
    "\n",
    "    # convert resistance to temperature\n",
    "    a = 0.00093135\n",
    "    b = 0.000221631\n",
    "    c = 0.000000125741\n",
    "\n",
    "    log_res = np.log(res)\n",
    "    degC = (1. / (a + b * log_res + c * log_res**3)) - 273.15\n",
    "    return degC\n",
    "\n",
    "def tempsal_corr(channel, wavelength, tcal, T, PS):\n",
    "    # apply the temperature and salinity corrections for each wavelength\n",
    "    # use a list comprehension to read in only those values required into a np array\n",
    "    np_tscor = np.array([tscor[ii] for ii in wavelength])\n",
    "    \n",
    "    T = np.atleast_2d(T)\n",
    "    PS = np.atleast_2d(PS)\n",
    "    \n",
    "    dT = T - tcal\n",
    "    \n",
    "    temp_cor = np_tscor[:, 0]\n",
    "    if channel == 'a':\n",
    "        sal_cor = np_tscor[:, 2]\n",
    "    elif channel == 'c':\n",
    "        sal_cor = np_tscor[:, 1]\n",
    "    else:\n",
    "        raise ValueError\n",
    "        \n",
    "    return (dT.T * temp_cor) + (PS.T * sal_cor)\n",
    "\n",
    "def optaa_compute(ref, sig, traw, wl, off, tcal, tbins, tarray, T, PS, channel):\n",
    "    if len(wl.shape) > 1:\n",
    "        wl = wl[0]\n",
    "    if len(off.shape) > 1:\n",
    "        off = off[0]\n",
    "    if len(tcal.shape) > 1:\n",
    "        tcal = tcal[0]\n",
    "    if len(tbins.shape) > 1:\n",
    "        tbins = tbins[0]\n",
    "    if len(tarray.shape) > 2:\n",
    "        tarray = tarray[0]\n",
    "    \n",
    "    raw = off - np.log(1.0 * sig / ref) / 0.25\n",
    "    offset = temp_offset(opt_internal_temp(traw), tbins, tarray)\n",
    "    corr = tempsal_corr(channel, wl, tcal, T, PS)\n",
    "    return  raw - offset - corr\n",
    "\n",
    "def opt_atten(cref, csig, traw, cwl, coff, tcal, tbins, tc_arr, T, PS):\n",
    "    return optaa_compute(cref, csig, traw, cwl, coff, tcal, tbins, tc_arr, T, PS, 'c')\n",
    "\n",
    "def opt_absorb(aref, asig, traw, awl, aoff, tcal, tbins, ta_arr, T, PS):\n",
    "    return optaa_compute(aref, asig, traw, awl, aoff, tcal, tbins, ta_arr, T, PS, 'a')"
   ]
  },
  {
   "cell_type": "markdown",
   "metadata": {
    "deletable": true,
    "editable": true
   },
   "source": [
    "Load the data:\n",
    "\n",
    "* OPTAAD301.dat - wetview processed data\n",
    "* OPTAAD301.xr  - instrument driver decoded data\n",
    "* acs134.dev    - calibration file"
   ]
  },
  {
   "cell_type": "code",
   "execution_count": 4,
   "metadata": {
    "collapsed": false,
    "deletable": true,
    "editable": true
   },
   "outputs": [],
   "source": [
    "wetview_data = parse_wetview_dat('OPTAAD301.dat')\n",
    "\n",
    "wetview_ds = xr.Dataset({'a': (('dim_0', 'dim_1'), wetview_data[:, 83:]),\n",
    "                         'c': (('dim_0', 'dim_1'), wetview_data[:, :83])})\n",
    "\n",
    "ds = pickle.load(open('OPTAAD301.xr'))\n",
    "cal_dict = parse_calibration('acs134.dev')"
   ]
  },
  {
   "cell_type": "markdown",
   "metadata": {
    "deletable": true,
    "editable": true
   },
   "source": [
    "Calculate beam attentuation and optical absorbtion coefficients.\n",
    "\n",
    "Temperature and Salinity fixed at 0 to produce the same output as vendor software."
   ]
  },
  {
   "cell_type": "code",
   "execution_count": 5,
   "metadata": {
    "collapsed": false,
    "deletable": true,
    "editable": true
   },
   "outputs": [],
   "source": [
    "awlngth = cal_dict['awlngth']\n",
    "cwlngth = cal_dict['cwlngth']\n",
    "acwo = cal_dict['acwo']\n",
    "ccwo = cal_dict['ccwo']\n",
    "tcal = cal_dict['tcal']\n",
    "tbins = cal_dict['tbins']\n",
    "taarray = cal_dict['taarray']\n",
    "tcarray = cal_dict['tcarray']\n",
    "\n",
    "ds['c_corrected'] = (('dim_0', 'dim_1'),\n",
    "                     opt_atten(ds.c_reference_counts.values,\n",
    "                                            ds.c_signal_counts.values,\n",
    "                                            ds.internal_temp_raw.values,\n",
    "                                            cwlngth,\n",
    "                                            ccwo,\n",
    "                                            tcal,\n",
    "                                            tbins,\n",
    "                                            tcarray,\n",
    "                                            0,\n",
    "                                            0))\n",
    "ds['a_corrected'] = (('dim_0', 'dim_1'),\n",
    "                     opt_absorb(ds.a_reference_counts.values,\n",
    "                                            ds.a_signal_counts.values,\n",
    "                                            ds.internal_temp_raw.values,\n",
    "                                            awlngth,\n",
    "                                            acwo,\n",
    "                                            tcal,\n",
    "                                            tbins,\n",
    "                                            taarray,\n",
    "                                            0,\n",
    "                                            0))"
   ]
  },
  {
   "cell_type": "code",
   "execution_count": 6,
   "metadata": {
    "collapsed": false,
    "deletable": true,
    "editable": true
   },
   "outputs": [
    {
     "data": {
      "text/plain": [
       "<matplotlib.collections.QuadMesh at 0x1149bf2d0>"
      ]
     },
     "execution_count": 6,
     "metadata": {},
     "output_type": "execute_result"
    },
    {
     "data": {
      "image/png": "[encoded data removed]",
      "text/plain": [
       "<matplotlib.figure.Figure at 0x11060f590>"
      ]
     },
     "metadata": {},
     "output_type": "display_data"
    }
   ],
   "source": [
    "ds.a_corrected.plot(levels = 8, figsize=(20, 5))"
   ]
  },
  {
   "cell_type": "code",
   "execution_count": 7,
   "metadata": {
    "collapsed": false,
    "deletable": true,
    "editable": true,
    "scrolled": true
   },
   "outputs": [
    {
     "data": {
      "text/plain": [
       "<matplotlib.collections.QuadMesh at 0x115509150>"
      ]
     },
     "execution_count": 7,
     "metadata": {},
     "output_type": "execute_result"
    },
    {
     "data": {
      "image/png": "[encoded data removed]",
      "text/plain": [
       "<matplotlib.figure.Figure at 0x115444450>"
      ]
     },
     "metadata": {},
     "output_type": "display_data"
    }
   ],
   "source": [
    "wetview_ds.a.plot(levels=8, figsize=(20, 5))"
   ]
  },
  {
   "cell_type": "code",
   "execution_count": 8,
   "metadata": {
    "collapsed": false,
    "deletable": true,
    "editable": true,
    "scrolled": false
   },
   "outputs": [
    {
     "data": {
      "text/plain": [
       "<matplotlib.collections.QuadMesh at 0x115be3750>"
      ]
     },
     "execution_count": 8,
     "metadata": {},
     "output_type": "execute_result"
    },
    {
     "data": {
      "image/png": "[encoded data removed]",
      "text/plain": [
       "<matplotlib.figure.Figure at 0x115a00dd0>"
      ]
     },
     "metadata": {},
     "output_type": "display_data"
    }
   ],
   "source": [
    "ds.c_corrected.plot(levels=8, figsize=(20, 5))"
   ]
  },
  {
   "cell_type": "code",
   "execution_count": 9,
   "metadata": {
    "collapsed": false,
    "deletable": true,
    "editable": true,
    "scrolled": false
   },
   "outputs": [
    {
     "data": {
      "text/plain": [
       "<matplotlib.collections.QuadMesh at 0x11632a150>"
      ]
     },
     "execution_count": 9,
     "metadata": {},
     "output_type": "execute_result"
    },
    {
     "data": {
      "image/png": "[encoded data removed]",
      "text/plain": [
       "<matplotlib.figure.Figure at 0x1161555d0>"
      ]
     },
     "metadata": {},
     "output_type": "display_data"
    }
   ],
   "source": [
    "wetview_ds.c.plot(levels=8, figsize=(20, 5))"
   ]
  },
  {
   "cell_type": "code",
   "execution_count": null,
   "metadata": {
    "collapsed": true,
    "deletable": true,
    "editable": true
   },
   "outputs": [],
   "source": []
  }
 ],
 "metadata": {
  "kernelspec": {
   "display_name": "Python 2",
   "language": "python",
   "name": "python2"
  },
  "language_info": {
   "codemirror_mode": {
    "name": "ipython",
    "version": 2
   },
   "file_extension": ".py",
   "mimetype": "text/x-python",
   "name": "python",
   "nbconvert_exporter": "python",
   "pygments_lexer": "ipython2",
   "version": "2.7.9"
  }
 },
 "nbformat": 4,
 "nbformat_minor": 2
}
