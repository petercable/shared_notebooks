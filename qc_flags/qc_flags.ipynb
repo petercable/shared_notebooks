{
 "cells": [
  {
   "cell_type": "code",
   "execution_count": 1,
   "metadata": {
    "collapsed": false
   },
   "outputs": [
    {
     "name": "stderr",
     "output_type": "stream",
     "text": [
      "/Users/petercable/virtenvs/ooi/lib/python2.7/site-packages/matplotlib/__init__.py:872: UserWarning: axes.color_cycle is deprecated and replaced with axes.prop_cycle; please use the latter.\n",
      "  warnings.warn(self.msg_depr % (key, alt_key))\n"
     ]
    }
   ],
   "source": [
    "%matplotlib inline\n",
    "import xarray as xr\n",
    "import numpy as np\n",
    "import seaborn as sbs"
   ]
  },
  {
   "cell_type": "code",
   "execution_count": 2,
   "metadata": {
    "collapsed": true
   },
   "outputs": [],
   "source": [
    "filename = 'deployment0003_RS01SBPS-SF01A-2A-CTDPFA102-streamed-ctdpf_sbe43_sample_20161110T000000.935191-20161110T102128.580840.nc'"
   ]
  },
  {
   "cell_type": "code",
   "execution_count": 3,
   "metadata": {
    "collapsed": true
   },
   "outputs": [],
   "source": [
    "ds = xr.open_dataset(filename)"
   ]
  },
  {
   "cell_type": "code",
   "execution_count": 4,
   "metadata": {
    "collapsed": true
   },
   "outputs": [],
   "source": [
    "# I don't want to see all the attributes\n",
    "ds.attrs = {}\n",
    "# And let's focus on just one parameter for now, convert to dataframe since the is all scalar data\n",
    "df = ds[['seawater_temperature', 'seawater_temperature_qc_executed', 'seawater_temperature_qc_results']].to_dataframe()\n",
    "# Re-index by time\n",
    "df = df.set_index('time')\n",
    "# drop lat/lon\n",
    "df = df.drop(['lat', 'lon'], axis=1)"
   ]
  },
  {
   "cell_type": "code",
   "execution_count": 5,
   "metadata": {
    "collapsed": false
   },
   "outputs": [
    {
     "data": {
      "text/html": [
       "<div>\n",
       "<table border=\"1\" class=\"dataframe\">\n",
       "  <thead>\n",
       "    <tr style=\"text-align: right;\">\n",
       "      <th></th>\n",
       "      <th>seawater_temperature</th>\n",
       "      <th>seawater_temperature_qc_executed</th>\n",
       "      <th>seawater_temperature_qc_results</th>\n",
       "    </tr>\n",
       "    <tr>\n",
       "      <th>time</th>\n",
       "      <th></th>\n",
       "      <th></th>\n",
       "      <th></th>\n",
       "    </tr>\n",
       "  </thead>\n",
       "  <tbody>\n",
       "    <tr>\n",
       "      <th>2016-11-10 00:00:00.935191</th>\n",
       "      <td>8.391116</td>\n",
       "      <td>29</td>\n",
       "      <td>21</td>\n",
       "    </tr>\n",
       "    <tr>\n",
       "      <th>2016-11-10 00:00:01.935922</th>\n",
       "      <td>8.391242</td>\n",
       "      <td>29</td>\n",
       "      <td>21</td>\n",
       "    </tr>\n",
       "    <tr>\n",
       "      <th>2016-11-10 00:00:02.935403</th>\n",
       "      <td>8.391430</td>\n",
       "      <td>29</td>\n",
       "      <td>21</td>\n",
       "    </tr>\n",
       "    <tr>\n",
       "      <th>2016-11-10 00:00:03.935715</th>\n",
       "      <td>8.392496</td>\n",
       "      <td>29</td>\n",
       "      <td>21</td>\n",
       "    </tr>\n",
       "    <tr>\n",
       "      <th>2016-11-10 00:00:04.935821</th>\n",
       "      <td>8.393562</td>\n",
       "      <td>29</td>\n",
       "      <td>21</td>\n",
       "    </tr>\n",
       "  </tbody>\n",
       "</table>\n",
       "</div>"
      ],
      "text/plain": [
       "                            seawater_temperature  \\\n",
       "time                                               \n",
       "2016-11-10 00:00:00.935191              8.391116   \n",
       "2016-11-10 00:00:01.935922              8.391242   \n",
       "2016-11-10 00:00:02.935403              8.391430   \n",
       "2016-11-10 00:00:03.935715              8.392496   \n",
       "2016-11-10 00:00:04.935821              8.393562   \n",
       "\n",
       "                            seawater_temperature_qc_executed  \\\n",
       "time                                                           \n",
       "2016-11-10 00:00:00.935191                                29   \n",
       "2016-11-10 00:00:01.935922                                29   \n",
       "2016-11-10 00:00:02.935403                                29   \n",
       "2016-11-10 00:00:03.935715                                29   \n",
       "2016-11-10 00:00:04.935821                                29   \n",
       "\n",
       "                            seawater_temperature_qc_results  \n",
       "time                                                         \n",
       "2016-11-10 00:00:00.935191                               21  \n",
       "2016-11-10 00:00:01.935922                               21  \n",
       "2016-11-10 00:00:02.935403                               21  \n",
       "2016-11-10 00:00:03.935715                               21  \n",
       "2016-11-10 00:00:04.935821                               21  "
      ]
     },
     "execution_count": 5,
     "metadata": {},
     "output_type": "execute_result"
    }
   ],
   "source": [
    "df.head()"
   ]
  },
  {
   "cell_type": "code",
   "execution_count": 6,
   "metadata": {
    "collapsed": false
   },
   "outputs": [
    {
     "data": {
      "text/plain": [
       "<matplotlib.axes._subplots.AxesSubplot at 0x106d3ff10>"
      ]
     },
     "execution_count": 6,
     "metadata": {},
     "output_type": "execute_result"
    },
    {
     "data": {
      "image/png": "[encoded data removed]",
      "text/plain": [
       "<matplotlib.figure.Figure at 0x102f48410>"
      ]
     },
     "metadata": {},
     "output_type": "display_data"
    }
   ],
   "source": [
    "df.seawater_temperature.plot()"
   ]
  },
  {
   "cell_type": "markdown",
   "metadata": {},
   "source": [
    "QC table\n",
    "```\n",
    "Test name              Bit position\n",
    "                         15 14 13 12 11 10  9  8  7  6  5  4  3  2  1  0\n",
    "global_range_test         0  0  0  0  0  0  0  0  0  0  0  0  0  0  0  1\n",
    "dataqc_localrangetest     0  0  0  0  0  0  0  0  0  0  0  0  0  0  1  0\n",
    "dataqc_spiketest          0  0  0  0  0  0  0  0  0  0  0  0  0  1  0  0\n",
    "dataqc_polytrendtest      0  0  0  0  0  0  0  0  0  0  0  0  1  0  0  0\n",
    "dataqc_stuckvaluetest     0  0  0  0  0  0  0  0  0  0  0  1  0  0  0  0\n",
    "dataqc_gradienttest       0  0  0  0  0  0  0  0  0  0  1  0  0  0  0  0\n",
    "dataqc_propagateflags     0  0  0  0  0  0  0  0  1  0  0  0  0  0  0  0\n",
    "```\n",
    "\n",
    "The QC flags for all tests are OR'd together to produce a single value for each data point. So, given a qc_executed value of 29 we can see which tests were run by reversing the process:"
   ]
  },
  {
   "cell_type": "code",
   "execution_count": 7,
   "metadata": {
    "collapsed": false
   },
   "outputs": [
    {
     "data": {
      "text/plain": [
       "array([0, 0, 0, 1, 1, 1, 0, 1], dtype=uint8)"
      ]
     },
     "execution_count": 7,
     "metadata": {},
     "output_type": "execute_result"
    }
   ],
   "source": [
    "np.unpackbits(np.array(29).astype('uint8'))"
   ]
  },
  {
   "cell_type": "markdown",
   "metadata": {},
   "source": [
    "If you compare this result to the table above you can see that the following tests were executed:\n",
    "\n",
    "```\n",
    "global_range_test\n",
    "dataqc_spiketest\n",
    "dataqc_polytrendtest\n",
    "dataqc_stuckvaluetest\n",
    "```\n",
    "\n",
    "We can craft a function to create new booleans variables for each test run containing the pass/fail results from that test:"
   ]
  },
  {
   "cell_type": "code",
   "execution_count": 8,
   "metadata": {
    "collapsed": false
   },
   "outputs": [],
   "source": [
    "def parse_qc(dataframe):\n",
    "    names = {\n",
    "        0: 'global_range_test',\n",
    "        1: 'dataqc_localrangetest',\n",
    "        2: 'dataqc_spiketest',\n",
    "        3: 'dataqc_polytrendtest',\n",
    "        4: 'dataqc_stuckvaluetest',\n",
    "        5: 'dataqc_gradienttest',\n",
    "        7: 'dataqc_propagateflags',\n",
    "    }\n",
    "    # Just in case a different set of tests were run on some datapoint\n",
    "    # *this should never happen*\n",
    "    executed = np.bitwise_or.reduce(dataframe.seawater_temperature_qc_executed.values)\n",
    "    executed_bits = np.unpackbits(executed.astype('uint8'))\n",
    "    for index, value in enumerate(executed_bits[::-1]):\n",
    "        if value:\n",
    "            name = names.get(index)\n",
    "            mask = 2**index\n",
    "            values = (dataframe.seawater_temperature_qc_results.values & mask) > 0\n",
    "            df[name] = values\n",
    "    dataframe.drop(['seawater_temperature_qc_executed', 'seawater_temperature_qc_results'], axis=1, inplace=True)"
   ]
  },
  {
   "cell_type": "code",
   "execution_count": 9,
   "metadata": {
    "collapsed": false
   },
   "outputs": [],
   "source": [
    "parse_qc(df)"
   ]
  },
  {
   "cell_type": "code",
   "execution_count": 10,
   "metadata": {
    "collapsed": false
   },
   "outputs": [
    {
     "data": {
      "text/html": [
       "<div>\n",
       "<table border=\"1\" class=\"dataframe\">\n",
       "  <thead>\n",
       "    <tr style=\"text-align: right;\">\n",
       "      <th></th>\n",
       "      <th>seawater_temperature</th>\n",
       "      <th>global_range_test</th>\n",
       "      <th>dataqc_spiketest</th>\n",
       "      <th>dataqc_polytrendtest</th>\n",
       "      <th>dataqc_stuckvaluetest</th>\n",
       "    </tr>\n",
       "    <tr>\n",
       "      <th>time</th>\n",
       "      <th></th>\n",
       "      <th></th>\n",
       "      <th></th>\n",
       "      <th></th>\n",
       "      <th></th>\n",
       "    </tr>\n",
       "  </thead>\n",
       "  <tbody>\n",
       "    <tr>\n",
       "      <th>2016-11-10 00:00:00.935191</th>\n",
       "      <td>8.391116</td>\n",
       "      <td>True</td>\n",
       "      <td>True</td>\n",
       "      <td>False</td>\n",
       "      <td>True</td>\n",
       "    </tr>\n",
       "    <tr>\n",
       "      <th>2016-11-10 00:00:01.935922</th>\n",
       "      <td>8.391242</td>\n",
       "      <td>True</td>\n",
       "      <td>True</td>\n",
       "      <td>False</td>\n",
       "      <td>True</td>\n",
       "    </tr>\n",
       "    <tr>\n",
       "      <th>2016-11-10 00:00:02.935403</th>\n",
       "      <td>8.391430</td>\n",
       "      <td>True</td>\n",
       "      <td>True</td>\n",
       "      <td>False</td>\n",
       "      <td>True</td>\n",
       "    </tr>\n",
       "    <tr>\n",
       "      <th>2016-11-10 00:00:03.935715</th>\n",
       "      <td>8.392496</td>\n",
       "      <td>True</td>\n",
       "      <td>True</td>\n",
       "      <td>False</td>\n",
       "      <td>True</td>\n",
       "    </tr>\n",
       "    <tr>\n",
       "      <th>2016-11-10 00:00:04.935821</th>\n",
       "      <td>8.393562</td>\n",
       "      <td>True</td>\n",
       "      <td>True</td>\n",
       "      <td>False</td>\n",
       "      <td>True</td>\n",
       "    </tr>\n",
       "  </tbody>\n",
       "</table>\n",
       "</div>"
      ],
      "text/plain": [
       "                            seawater_temperature global_range_test  \\\n",
       "time                                                                 \n",
       "2016-11-10 00:00:00.935191              8.391116              True   \n",
       "2016-11-10 00:00:01.935922              8.391242              True   \n",
       "2016-11-10 00:00:02.935403              8.391430              True   \n",
       "2016-11-10 00:00:03.935715              8.392496              True   \n",
       "2016-11-10 00:00:04.935821              8.393562              True   \n",
       "\n",
       "                           dataqc_spiketest dataqc_polytrendtest  \\\n",
       "time                                                               \n",
       "2016-11-10 00:00:00.935191             True                False   \n",
       "2016-11-10 00:00:01.935922             True                False   \n",
       "2016-11-10 00:00:02.935403             True                False   \n",
       "2016-11-10 00:00:03.935715             True                False   \n",
       "2016-11-10 00:00:04.935821             True                False   \n",
       "\n",
       "                           dataqc_stuckvaluetest  \n",
       "time                                              \n",
       "2016-11-10 00:00:00.935191                  True  \n",
       "2016-11-10 00:00:01.935922                  True  \n",
       "2016-11-10 00:00:02.935403                  True  \n",
       "2016-11-10 00:00:03.935715                  True  \n",
       "2016-11-10 00:00:04.935821                  True  "
      ]
     },
     "execution_count": 10,
     "metadata": {},
     "output_type": "execute_result"
    }
   ],
   "source": [
    "df.head()"
   ]
  },
  {
   "cell_type": "code",
   "execution_count": 11,
   "metadata": {
    "collapsed": false
   },
   "outputs": [
    {
     "data": {
      "text/plain": [
       "<matplotlib.axes._subplots.AxesSubplot at 0x10aea76d0>"
      ]
     },
     "execution_count": 11,
     "metadata": {},
     "output_type": "execute_result"
    },
    {
     "data": {
      "image/png": "[encoded data removed]",
      "text/plain": [
       "<matplotlib.figure.Figure at 0x106d11210>"
      ]
     },
     "metadata": {},
     "output_type": "display_data"
    }
   ],
   "source": [
    "df.plot()"
   ]
  },
  {
   "cell_type": "code",
   "execution_count": null,
   "metadata": {
    "collapsed": true
   },
   "outputs": [],
   "source": []
  }
 ],
 "metadata": {
  "kernelspec": {
   "display_name": "Python 2",
   "language": "python",
   "name": "python2"
  },
  "language_info": {
   "codemirror_mode": {
    "name": "ipython",
    "version": 2
   },
   "file_extension": ".py",
   "mimetype": "text/x-python",
   "name": "python",
   "nbconvert_exporter": "python",
   "pygments_lexer": "ipython2",
   "version": "2.7.9"
  }
 },
 "nbformat": 4,
 "nbformat_minor": 0
}
